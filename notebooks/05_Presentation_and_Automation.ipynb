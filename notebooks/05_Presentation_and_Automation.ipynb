{
  "cells": [
    {
      "cell_type": "markdown",
      "metadata": {
        "vscode": {
          "languageId": "raw"
        }
      },
      "source": [
        "# 05. GUI Application Instructions\n",
        "## Personality Quiz - Usage Guide\n",
        "\n",
        "**Objective:** Simple guide for running and using the personality quiz GUI application.\n",
        "\n",
        "### Features:\n",
        "- Interactive quiz with 8 personality questions\n",
        "- Progress tracking with visual progress bar\n",
        "- Modern dark theme interface\n",
        "- Navigation controls (Previous/Next buttons)\n",
        "- Instant results with personality analysis\n",
        "- Works with or without trained models\n"
      ]
    },
    {
      "cell_type": "markdown",
      "metadata": {},
      "source": [
        "## How to Run the Quiz\n",
        "\n",
        "### Quick Start:\n",
        "\n",
        "1. Navigate to the notebooks directory:\n",
        "```bash\n",
        "cd notebooks\n",
        "```\n",
        "\n",
        "2. Run the application:\n",
        "```bash\n",
        "python gui.py\n",
        "```\n",
        "\n",
        "The application window will open automatically and you can start the quiz.\n",
        "\n",
        "### Requirements:\n",
        "- Python 3.7+\n",
        "- Libraries: `pandas`, `numpy`, `scikit-learn`, `joblib`, `tkinter`\n",
        "\n",
        "### Install dependencies:\n",
        "```bash\n",
        "pip install pandas numpy scikit-learn joblib\n",
        "```\n",
        "\n",
        "Note: The quiz works even without trained models using a fallback system.\n"
      ]
    },
    {
      "cell_type": "markdown",
      "metadata": {
        "vscode": {
          "languageId": "raw"
        }
      },
      "source": [
        "## User Interface Guide\n",
        "\n",
        "### 1. Welcome Screen\n",
        "The application opens with a welcome screen that includes:\n",
        "- Title and description of the quiz\n",
        "- Random personality facts\n",
        "- Start button to begin\n",
        "\n",
        "### 2. Quiz Interface\n",
        "- Progress bar showing completion percentage\n",
        "- Questions with clear text and context\n",
        "- 4 multiple choice options per question\n",
        "- Previous button (appears after first question)\n",
        "- Next button to advance\n"
      ]
    },
    {
      "cell_type": "markdown",
      "metadata": {},
      "source": [
        "### 3. Quiz Questions\n",
        "\n",
        "The quiz contains 8 questions covering:\n",
        "\n",
        "1. **Social Energy**: How you feel at parties\n",
        "2. **Free Time**: How you prefer to spend leisure time  \n",
        "3. **Communication**: Your natural communication style\n",
        "4. **Social Circles**: Your ideal friend group size\n",
        "5. **Public Speaking**: Comfort with being center of attention\n",
        "6. **Social Media**: Online engagement patterns\n",
        "7. **Weekend Plans**: Leisure activity preferences\n",
        "8. **Energy Levels**: How social events affect your energy\n"
      ]
    },
    {
      "cell_type": "markdown",
      "metadata": {},
      "source": [
        "### 4. Results Screen\n",
        "\n",
        "After completing all questions, you'll see:\n",
        "- Your personality type (Introvert or Extrovert)\n",
        "- Confidence percentage\n",
        "- Description of your personality traits\n",
        "- Options to retake quiz or finish\n",
        "\n",
        "### 5. Scoring\n",
        "\n",
        "The scoring system:\n",
        "- Each question has 4 options scored 1-4\n",
        "- Higher scores indicate introversion\n",
        "- 60%+ = Introvert, <60% = Extrovert\n"
      ]
    },
    {
      "cell_type": "markdown",
      "metadata": {},
      "source": [
        "## Summary\n",
        "\n",
        "This GUI provides an interactive way to assess personality types through a simple quiz interface. The application is easy to run and provides immediate results with explanations.\n"
      ]
    }
  ],
  "metadata": {
    "kernelspec": {
      "display_name": "Python 3",
      "language": "python",
      "name": "python3"
    },
    "language_info": {
      "codemirror_mode": {
        "name": "ipython",
        "version": 3
      },
      "file_extension": ".py",
      "mimetype": "text/x-python",
      "name": "python",
      "nbconvert_exporter": "python",
      "pygments_lexer": "ipython3",
      "version": "3.12.6"
    }
  },
  "nbformat": 4,
  "nbformat_minor": 2
}
